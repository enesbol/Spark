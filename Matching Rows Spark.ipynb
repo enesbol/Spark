{
 "cells": [
  {
   "cell_type": "code",
   "execution_count": 49,
   "id": "50fb4bca",
   "metadata": {},
   "outputs": [],
   "source": [
    "# Import SparkSession\n",
    "from pyspark.sql import SparkSession\n",
    "import findspark\n",
    "import pyspark\n",
    "import random\n",
    "import pandas as pd"
   ]
  },
  {
   "cell_type": "code",
   "execution_count": 50,
   "id": "ec9f635b",
   "metadata": {},
   "outputs": [],
   "source": [
    "from pyspark.sql.functions import col"
   ]
  },
  {
   "cell_type": "code",
   "execution_count": 51,
   "id": "24cbdc2b",
   "metadata": {},
   "outputs": [],
   "source": [
    "# Create SparkSession \n",
    "spark = SparkSession.builder.master(\"local[1]\").getOrCreate() "
   ]
  },
  {
   "cell_type": "code",
   "execution_count": 52,
   "id": "af8e2fce",
   "metadata": {},
   "outputs": [],
   "source": [
    "sc = spark.sparkContext"
   ]
  },
  {
   "cell_type": "markdown",
   "id": "3b5cf7ca",
   "metadata": {},
   "source": [
    "# Read Files with sparkSession"
   ]
  },
  {
   "cell_type": "code",
   "execution_count": 5,
   "id": "76a56cf7",
   "metadata": {},
   "outputs": [],
   "source": [
    "gbrDF = spark.read.json('gbr.jsonl')\n",
    "ofacDF = spark.read.json('ofac.jsonl')"
   ]
  },
  {
   "cell_type": "markdown",
   "id": "4d8eda0b",
   "metadata": {},
   "source": [
    "# Checked for if schemas equals\n"
   ]
  },
  {
   "cell_type": "code",
   "execution_count": 6,
   "id": "09733f62",
   "metadata": {},
   "outputs": [
    {
     "name": "stdout",
     "output_type": "stream",
     "text": [
      "root\n",
      " |-- addresses: array (nullable = true)\n",
      " |    |-- element: struct (containsNull = true)\n",
      " |    |    |-- country: string (nullable = true)\n",
      " |    |    |-- postal_code: string (nullable = true)\n",
      " |    |    |-- value: string (nullable = true)\n",
      " |-- aliases: array (nullable = true)\n",
      " |    |-- element: struct (containsNull = true)\n",
      " |    |    |-- type: string (nullable = true)\n",
      " |    |    |-- value: string (nullable = true)\n",
      " |-- id: long (nullable = true)\n",
      " |-- id_numbers: array (nullable = true)\n",
      " |    |-- element: struct (containsNull = true)\n",
      " |    |    |-- comment: string (nullable = true)\n",
      " |    |    |-- value: string (nullable = true)\n",
      " |-- name: string (nullable = true)\n",
      " |-- nationality: array (nullable = true)\n",
      " |    |-- element: string (containsNull = true)\n",
      " |-- place_of_birth: string (nullable = true)\n",
      " |-- position: string (nullable = true)\n",
      " |-- reported_dates_of_birth: array (nullable = true)\n",
      " |    |-- element: string (containsNull = true)\n",
      " |-- type: string (nullable = true)\n",
      "\n",
      "root\n",
      " |-- addresses: array (nullable = true)\n",
      " |    |-- element: struct (containsNull = true)\n",
      " |    |    |-- country: string (nullable = true)\n",
      " |    |    |-- postal_code: string (nullable = true)\n",
      " |    |    |-- value: string (nullable = true)\n",
      " |-- aliases: array (nullable = true)\n",
      " |    |-- element: struct (containsNull = true)\n",
      " |    |    |-- type: string (nullable = true)\n",
      " |    |    |-- value: string (nullable = true)\n",
      " |-- id: string (nullable = true)\n",
      " |-- id_numbers: array (nullable = true)\n",
      " |    |-- element: struct (containsNull = true)\n",
      " |    |    |-- comment: string (nullable = true)\n",
      " |    |    |-- value: string (nullable = true)\n",
      " |-- name: string (nullable = true)\n",
      " |-- nationality: array (nullable = true)\n",
      " |    |-- element: string (containsNull = true)\n",
      " |-- place_of_birth: string (nullable = true)\n",
      " |-- position: string (nullable = true)\n",
      " |-- reported_dates_of_birth: array (nullable = true)\n",
      " |    |-- element: string (containsNull = true)\n",
      " |-- type: string (nullable = true)\n",
      "\n",
      "*Schemas equals*\n"
     ]
    }
   ],
   "source": [
    "a= ofacDF.printSchema()\n",
    "b= gbrDF.printSchema()\n",
    "if( a == b ):\n",
    "    print(\"*Schemas equals*\")"
   ]
  },
  {
   "cell_type": "markdown",
   "id": "1ecbc055",
   "metadata": {},
   "source": [
    "# Dropped duplicates for name column, so that if there is a duplicate in itself, it does not appear as if there is a common duplicate"
   ]
  },
  {
   "cell_type": "code",
   "execution_count": 7,
   "id": "da7d13d3",
   "metadata": {},
   "outputs": [],
   "source": [
    "gbrDFclean = gbrDF.dropDuplicates(['name'])\n",
    "ofacDFclean = ofacDF.dropDuplicates(['name'])"
   ]
  },
  {
   "cell_type": "markdown",
   "id": "74c524ba",
   "metadata": {},
   "source": [
    "# Using Union()\n",
    "# Union() methods of the DataFrame are employed to mix two DataFrame’s of an equivalent structure/schema."
   ]
  },
  {
   "cell_type": "code",
   "execution_count": 8,
   "id": "c7d8c2c2",
   "metadata": {},
   "outputs": [],
   "source": [
    "df3 = gbrDFclean.union(ofacDFclean)"
   ]
  },
  {
   "cell_type": "markdown",
   "id": "b5671813",
   "metadata": {},
   "source": [
    "# Used groupby for finding records that exist in both DataFrames"
   ]
  },
  {
   "cell_type": "code",
   "execution_count": 11,
   "id": "8e8e35e7",
   "metadata": {},
   "outputs": [],
   "source": [
    "groupednames = df3.groupBy(\"name\").count().filter(col(\"count\")>1)"
   ]
  },
  {
   "cell_type": "code",
   "execution_count": 12,
   "id": "5ae83896",
   "metadata": {},
   "outputs": [
    {
     "name": "stdout",
     "output_type": "stream",
     "text": [
      "+--------------------+-----+\n",
      "|                name|   id|\n",
      "+--------------------+-----+\n",
      "|  CUBAN CIGARS TRADE|  593|\n",
      "|Abid Hamid Mahmud...| 7846|\n",
      "|Ismail Abdallah S...| 7945|\n",
      "| CORPORACION CIME...| 8125|\n",
      "|Victor Julio SUAR...| 8143|\n",
      "|Rafik Mohamad YOUSEF| 9589|\n",
      "| TOYS FACTORY, S....|10638|\n",
      "|      SINALOA CARTEL|11440|\n",
      "| HODWALKER Y LEAL...|11526|\n",
      "|Ignacio MEJIA GUT...|12025|\n",
      "| CLUB DEPORTIVO O...|12194|\n",
      "| PUNTO FARMACEUTI...|13018|\n",
      "|Ramon Ignacio PAE...|15255|\n",
      "|            ATLANTIC|15724|\n",
      "|    Bassam AL-HASSAN|16235|\n",
      "| COMPANIA AGRO CO...|16320|\n",
      "| NAVID COMPOSITE ...|16444|\n",
      "| FEODOSIYA ENTERP...|16957|\n",
      "|        DAI HONG DAN|17086|\n",
      "| MUJAHIDIN SHURA ...|17187|\n",
      "+--------------------+-----+\n",
      "only showing top 20 rows\n",
      "\n"
     ]
    }
   ],
   "source": [
    "ofacDFclean.select('name','id').show()"
   ]
  },
  {
   "cell_type": "markdown",
   "id": "7e66ec76",
   "metadata": {},
   "source": [
    "# Loop for grb_id and ofac_id for matched values based on a column"
   ]
  },
  {
   "cell_type": "code",
   "execution_count": 13,
   "id": "c7c73942",
   "metadata": {},
   "outputs": [],
   "source": [
    "#For iterating over a spark df you need to use .collect() for retrieving all the data from it. \n",
    "\n",
    "# Storing in the variable\n",
    "data_collect = groupednames.select(\"name\").collect()\n",
    " \n",
    "# looping thorough each row of the dataframe for finding desired gbr and ofac id's\n",
    "\n",
    "gbrid=[] # array for storing gbrid's \n",
    "ofacid=[] # array for storing ofacid's \n",
    "\n",
    "for row in data_collect:\n",
    "    \n",
    "    # For the name in each row, ofac and gbr find the id of the row with the same name\n",
    "        #get equal row for name same with #our iterating row value   #Filter that row for getting the id and get it as a value.\n",
    "    a = gbrDFclean.filter(gbrDFclean.name == row[\"name\"]).select(gbrDFclean.id).first()\n",
    "    b = ofacDFclean.filter(ofacDFclean.name == row[\"name\"]).select(ofacDFclean.id).first()\n",
    "    \n",
    "    # Add every element to lists.\n",
    "    gbrid.append(a)\n",
    "    ofacid.append(b)   "
   ]
  },
  {
   "cell_type": "markdown",
   "id": "282ec91f",
   "metadata": {},
   "source": [
    "\n",
    "# Checked if the number of obtained ids is correct."
   ]
  },
  {
   "cell_type": "code",
   "execution_count": 14,
   "id": "03bd528c",
   "metadata": {},
   "outputs": [
    {
     "name": "stdout",
     "output_type": "stream",
     "text": [
      "482 482 482\n"
     ]
    }
   ],
   "source": [
    "print(len(gbrid),len(ofacid),groupednames.count())"
   ]
  },
  {
   "cell_type": "markdown",
   "id": "fa672648",
   "metadata": {},
   "source": [
    "## Created 2 Pandas DF from lists for adding as columns to output df"
   ]
  },
  {
   "cell_type": "code",
   "execution_count": 15,
   "id": "95dc55e4",
   "metadata": {},
   "outputs": [],
   "source": [
    "df = pd.DataFrame(gbrid)\n",
    "df.columns=['gbrid']\n",
    "df['gbrid'] = df['gbrid'].astype('string') #Converted string for adding as a column. It does not let add as integers."
   ]
  },
  {
   "cell_type": "code",
   "execution_count": 16,
   "id": "f1a017a9",
   "metadata": {},
   "outputs": [],
   "source": [
    "df2 = pd.DataFrame(ofacid)\n",
    "df2.columns=['ofacid']\n",
    "df2['ofacid'] = df2['ofacid'].astype('string')"
   ]
  },
  {
   "cell_type": "code",
   "execution_count": 17,
   "id": "f89cb286",
   "metadata": {},
   "outputs": [],
   "source": [
    "groupednamespd = groupednames.toPandas()"
   ]
  },
  {
   "cell_type": "markdown",
   "id": "9888d984",
   "metadata": {},
   "source": [
    "# Adding lists as columns to matched output df "
   ]
  },
  {
   "cell_type": "code",
   "execution_count": 18,
   "id": "54123e5e",
   "metadata": {},
   "outputs": [],
   "source": [
    "groupednamespd['gbr_id'] = df['gbrid']"
   ]
  },
  {
   "cell_type": "code",
   "execution_count": 19,
   "id": "b1f41561",
   "metadata": {},
   "outputs": [],
   "source": [
    "groupednamespd['ofac_id'] = df2['ofacid']"
   ]
  },
  {
   "cell_type": "markdown",
   "id": "4385661b",
   "metadata": {},
   "source": [
    "# Matched DF "
   ]
  },
  {
   "cell_type": "code",
   "execution_count": 20,
   "id": "1626a5da",
   "metadata": {},
   "outputs": [
    {
     "data": {
      "text/html": [
       "<div>\n",
       "<style scoped>\n",
       "    .dataframe tbody tr th:only-of-type {\n",
       "        vertical-align: middle;\n",
       "    }\n",
       "\n",
       "    .dataframe tbody tr th {\n",
       "        vertical-align: top;\n",
       "    }\n",
       "\n",
       "    .dataframe thead th {\n",
       "        text-align: right;\n",
       "    }\n",
       "</style>\n",
       "<table border=\"1\" class=\"dataframe\">\n",
       "  <thead>\n",
       "    <tr style=\"text-align: right;\">\n",
       "      <th></th>\n",
       "      <th>name</th>\n",
       "      <th>count</th>\n",
       "      <th>gbr_id</th>\n",
       "      <th>ofac_id</th>\n",
       "    </tr>\n",
       "  </thead>\n",
       "  <tbody>\n",
       "    <tr>\n",
       "      <th>0</th>\n",
       "      <td>Abid Hamid Mahmud AL-TIKRITI</td>\n",
       "      <td>2</td>\n",
       "      <td>7619</td>\n",
       "      <td>7846</td>\n",
       "    </tr>\n",
       "    <tr>\n",
       "      <th>1</th>\n",
       "      <td>Salah BADI</td>\n",
       "      <td>2</td>\n",
       "      <td>13719</td>\n",
       "      <td>26094</td>\n",
       "    </tr>\n",
       "    <tr>\n",
       "      <th>2</th>\n",
       "      <td>Yahya HAQQANI</td>\n",
       "      <td>2</td>\n",
       "      <td>13144</td>\n",
       "      <td>16518</td>\n",
       "    </tr>\n",
       "    <tr>\n",
       "      <th>3</th>\n",
       "      <td>James Koang CHUOL</td>\n",
       "      <td>2</td>\n",
       "      <td>13265</td>\n",
       "      <td>16910</td>\n",
       "    </tr>\n",
       "    <tr>\n",
       "      <th>4</th>\n",
       "      <td>Moe Myint TUN</td>\n",
       "      <td>2</td>\n",
       "      <td>14062</td>\n",
       "      <td>31171</td>\n",
       "    </tr>\n",
       "    <tr>\n",
       "      <th>...</th>\n",
       "      <td>...</td>\n",
       "      <td>...</td>\n",
       "      <td>...</td>\n",
       "      <td>...</td>\n",
       "    </tr>\n",
       "    <tr>\n",
       "      <th>477</th>\n",
       "      <td>Barzan Ibrahim Hassan AL-TIKRITI</td>\n",
       "      <td>2</td>\n",
       "      <td>7608</td>\n",
       "      <td>7880</td>\n",
       "    </tr>\n",
       "    <tr>\n",
       "      <th>478</th>\n",
       "      <td>Delcy Eloina RODRIGUEZ GOMEZ</td>\n",
       "      <td>2</td>\n",
       "      <td>13687</td>\n",
       "      <td>25077</td>\n",
       "    </tr>\n",
       "    <tr>\n",
       "      <th>479</th>\n",
       "      <td>Germain KATANGA</td>\n",
       "      <td>2</td>\n",
       "      <td>8735</td>\n",
       "      <td>11975</td>\n",
       "    </tr>\n",
       "    <tr>\n",
       "      <th>480</th>\n",
       "      <td>Mokhtar BELMOKHTAR</td>\n",
       "      <td>2</td>\n",
       "      <td>7881</td>\n",
       "      <td>8084</td>\n",
       "    </tr>\n",
       "    <tr>\n",
       "      <th>481</th>\n",
       "      <td>Sergei Vladimirovich ZHELEZNYAK</td>\n",
       "      <td>2</td>\n",
       "      <td>12920</td>\n",
       "      <td>16668</td>\n",
       "    </tr>\n",
       "  </tbody>\n",
       "</table>\n",
       "<p>482 rows × 4 columns</p>\n",
       "</div>"
      ],
      "text/plain": [
       "                                 name  count gbr_id ofac_id\n",
       "0        Abid Hamid Mahmud AL-TIKRITI      2   7619    7846\n",
       "1                          Salah BADI      2  13719   26094\n",
       "2                       Yahya HAQQANI      2  13144   16518\n",
       "3                   James Koang CHUOL      2  13265   16910\n",
       "4                       Moe Myint TUN      2  14062   31171\n",
       "..                                ...    ...    ...     ...\n",
       "477  Barzan Ibrahim Hassan AL-TIKRITI      2   7608    7880\n",
       "478      Delcy Eloina RODRIGUEZ GOMEZ      2  13687   25077\n",
       "479                   Germain KATANGA      2   8735   11975\n",
       "480                Mokhtar BELMOKHTAR      2   7881    8084\n",
       "481   Sergei Vladimirovich ZHELEZNYAK      2  12920   16668\n",
       "\n",
       "[482 rows x 4 columns]"
      ]
     },
     "execution_count": 20,
     "metadata": {},
     "output_type": "execute_result"
    }
   ],
   "source": [
    "groupednamespd"
   ]
  },
  {
   "cell_type": "markdown",
   "id": "17229106",
   "metadata": {},
   "source": [
    "# Some sample validations for if process working right."
   ]
  },
  {
   "cell_type": "code",
   "execution_count": 22,
   "id": "1a7a4bb9",
   "metadata": {},
   "outputs": [
    {
     "name": "stdout",
     "output_type": "stream",
     "text": [
      "+----------------+--------------------+----+----------+--------------------+-----------+--------------------+--------+-----------------------+----------+\n",
      "|       addresses|             aliases|  id|id_numbers|                name|nationality|      place_of_birth|position|reported_dates_of_birth|      type|\n",
      "+----------------+--------------------+----+----------+--------------------+-----------+--------------------+--------+-----------------------+----------+\n",
      "|[{null, null, }]|[{AKA, Abed Mahmo...|7619|        []|Abid Hamid Mahmud...|     [Iraq]|al-Awja, near Tik...|    null|           [00/00/1957]|Individual|\n",
      "+----------------+--------------------+----+----------+--------------------+-----------+--------------------+--------+-----------------------+----------+\n",
      "\n"
     ]
    }
   ],
   "source": [
    "gbrDF.filter(gbrDF.name == 'Abid Hamid Mahmud AL-TIKRITI').show()"
   ]
  },
  {
   "cell_type": "code",
   "execution_count": 24,
   "id": "4139bd55",
   "metadata": {},
   "outputs": [
    {
     "name": "stdout",
     "output_type": "stream",
     "text": [
      "+---------+--------------------+----+----------+--------------------+-----------+--------------------+--------+-----------------------+----------+\n",
      "|addresses|             aliases|  id|id_numbers|                name|nationality|      place_of_birth|position|reported_dates_of_birth|      type|\n",
      "+---------+--------------------+----+----------+--------------------+-----------+--------------------+--------+-----------------------+----------+\n",
      "|     null|[{strong a.k.a., ...|7846|      null|Abid Hamid Mahmud...|     [Iraq]|al-Awja, near Tik...|    null|           [circa 1957]|Individual|\n",
      "+---------+--------------------+----+----------+--------------------+-----------+--------------------+--------+-----------------------+----------+\n",
      "\n"
     ]
    }
   ],
   "source": [
    "ofacDF.filter(ofacDF.name == 'Abid Hamid Mahmud AL-TIKRITI').show()"
   ]
  },
  {
   "cell_type": "markdown",
   "id": "1632f9c2",
   "metadata": {},
   "source": [
    "# Cleaner way to see only ids."
   ]
  },
  {
   "cell_type": "code",
   "execution_count": 27,
   "id": "565964e1",
   "metadata": {},
   "outputs": [
    {
     "name": "stdout",
     "output_type": "stream",
     "text": [
      "+--------------------+-----+\n",
      "|                name|   id|\n",
      "+--------------------+-----+\n",
      "|Sergei Vladimirov...|12920|\n",
      "+--------------------+-----+\n",
      "\n"
     ]
    }
   ],
   "source": [
    "gbrDF.select('name','id').filter(gbrDF.name == 'Sergei Vladimirovich ZHELEZNYAK').show()"
   ]
  },
  {
   "cell_type": "code",
   "execution_count": 28,
   "id": "62bd4491",
   "metadata": {},
   "outputs": [
    {
     "name": "stdout",
     "output_type": "stream",
     "text": [
      "+--------------------+-----+\n",
      "|                name|   id|\n",
      "+--------------------+-----+\n",
      "|Sergei Vladimirov...|16668|\n",
      "+--------------------+-----+\n",
      "\n"
     ]
    }
   ],
   "source": [
    "ofacDF.select('name','id').filter(ofacDF.name == 'Sergei Vladimirovich ZHELEZNYAK').show()"
   ]
  },
  {
   "cell_type": "code",
   "execution_count": 30,
   "id": "c5ff59e2",
   "metadata": {},
   "outputs": [
    {
     "name": "stdout",
     "output_type": "stream",
     "text": [
      "+--------------------+----+\n",
      "|                name|  id|\n",
      "+--------------------+----+\n",
      "|Barzan Ibrahim Ha...|7608|\n",
      "+--------------------+----+\n",
      "\n"
     ]
    }
   ],
   "source": [
    "gbrDF.select('name','id').filter(gbrDF.name == 'Barzan Ibrahim Hassan AL-TIKRITI').show()"
   ]
  },
  {
   "cell_type": "code",
   "execution_count": 29,
   "id": "3e85d419",
   "metadata": {},
   "outputs": [
    {
     "name": "stdout",
     "output_type": "stream",
     "text": [
      "+--------------------+----+\n",
      "|                name|  id|\n",
      "+--------------------+----+\n",
      "|Barzan Ibrahim Ha...|7880|\n",
      "+--------------------+----+\n",
      "\n"
     ]
    }
   ],
   "source": [
    "ofacDF.select('name','id').filter(ofacDF.name == 'Barzan Ibrahim Hassan AL-TIKRITI').show()"
   ]
  },
  {
   "cell_type": "code",
   "execution_count": 32,
   "id": "fbe775ec",
   "metadata": {},
   "outputs": [
    {
     "name": "stdout",
     "output_type": "stream",
     "text": [
      "+-----------------+-----+\n",
      "|             name|   id|\n",
      "+-----------------+-----+\n",
      "|James Koang CHUOL|13265|\n",
      "+-----------------+-----+\n",
      "\n"
     ]
    }
   ],
   "source": [
    "gbrDF.select('name','id').filter(gbrDF.name == 'James Koang CHUOL').show()"
   ]
  },
  {
   "cell_type": "code",
   "execution_count": 31,
   "id": "68fe160f",
   "metadata": {},
   "outputs": [
    {
     "name": "stdout",
     "output_type": "stream",
     "text": [
      "+-----------------+-----+\n",
      "|             name|   id|\n",
      "+-----------------+-----+\n",
      "|James Koang CHUOL|16910|\n",
      "+-----------------+-----+\n",
      "\n"
     ]
    }
   ],
   "source": [
    "ofacDF.select('name','id').filter(ofacDF.name == 'James Koang CHUOL').show()"
   ]
  },
  {
   "cell_type": "markdown",
   "id": "5304918c",
   "metadata": {},
   "source": [
    "# Add Matched DF to a Spark DF "
   ]
  },
  {
   "cell_type": "code",
   "execution_count": 35,
   "id": "b39f9fb6",
   "metadata": {},
   "outputs": [],
   "source": [
    "MatchedNamesSparkDF=spark.createDataFrame(groupednamespd)"
   ]
  },
  {
   "cell_type": "code",
   "execution_count": 37,
   "id": "d9485b18",
   "metadata": {},
   "outputs": [
    {
     "name": "stdout",
     "output_type": "stream",
     "text": [
      "root\n",
      " |-- name: string (nullable = true)\n",
      " |-- count: long (nullable = true)\n",
      " |-- gbr_id: string (nullable = true)\n",
      " |-- ofac_id: string (nullable = true)\n",
      "\n"
     ]
    }
   ],
   "source": [
    "MatchedNamesSparkDF.printSchema()"
   ]
  },
  {
   "cell_type": "code",
   "execution_count": 44,
   "id": "36ab7ad3",
   "metadata": {},
   "outputs": [],
   "source": [
    "MatchedNamesSparkDF.createOrReplaceTempView('sparkdf')"
   ]
  },
  {
   "cell_type": "code",
   "execution_count": 45,
   "id": "f9f8d001",
   "metadata": {},
   "outputs": [],
   "source": [
    "q = spark.sql('SELECT * FROM sparkdf')"
   ]
  },
  {
   "cell_type": "code",
   "execution_count": 46,
   "id": "e18dbe76",
   "metadata": {},
   "outputs": [
    {
     "name": "stdout",
     "output_type": "stream",
     "text": [
      "root\n",
      " |-- name: string (nullable = true)\n",
      " |-- count: long (nullable = true)\n",
      " |-- gbr_id: string (nullable = true)\n",
      " |-- ofac_id: string (nullable = true)\n",
      "\n"
     ]
    }
   ],
   "source": [
    "q.printSchema()"
   ]
  }
 ],
 "metadata": {
  "kernelspec": {
   "display_name": "Python 3 (ipykernel)",
   "language": "python",
   "name": "python3"
  },
  "language_info": {
   "codemirror_mode": {
    "name": "ipython",
    "version": 3
   },
   "file_extension": ".py",
   "mimetype": "text/x-python",
   "name": "python",
   "nbconvert_exporter": "python",
   "pygments_lexer": "ipython3",
   "version": "3.9.12"
  }
 },
 "nbformat": 4,
 "nbformat_minor": 5
}
